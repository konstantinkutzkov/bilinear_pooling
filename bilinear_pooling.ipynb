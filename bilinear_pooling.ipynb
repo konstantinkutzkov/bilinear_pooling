{
 "cells": [
  {
   "cell_type": "markdown",
   "metadata": {},
   "source": [
    "## Implementation for Medium blog post on Bilinear pooling"
   ]
  },
  {
   "cell_type": "code",
   "execution_count": 1,
   "metadata": {},
   "outputs": [],
   "source": [
    "import numpy as np\n",
    "from scipy.stats import cauchy\n",
    "import matplotlib.pyplot as plt\n",
    "import tensorflow as tf\n",
    "from tensorflow.keras import layers\n",
    "from tensorflow.keras import regularizers\n",
    "from tensorflow.keras.layers import Layer\n",
    "from keras.layers import Input, Dense, Activation, Reshape, Conv2D, MaxPooling2D, Flatten, Dropout\n",
    "from sklearn.metrics import accuracy_score as acc\n",
    "import os"
   ]
  },
  {
   "cell_type": "markdown",
   "metadata": {},
   "source": [
    "## Reading the data.\n",
    "The current example uses small datasets and serves only illustratory purposes."
   ]
  },
  {
   "cell_type": "code",
   "execution_count": 2,
   "metadata": {},
   "outputs": [
    {
     "name": "stdout",
     "output_type": "stream",
     "text": [
      "x_train shape: (60000, 28, 28, 1)\n",
      "60000 train samples\n",
      "10000 test samples\n",
      "(60000, 10)\n"
     ]
    }
   ],
   "source": [
    "# Model / data parameters\n",
    "input_shape = (28, 28, 1)\n",
    "\n",
    "# the data, split between train and test sets\n",
    "# Fashion MNIST\n",
    "(x_train, y_train), (x_test, y_test)  = tf.keras.datasets.fashion_mnist.load_data()\n",
    "\n",
    "# MNIST\n",
    "# (x_train, y_train), (x_test, y_test) = tf.keras.datasets.mnist.load_data()\n",
    "\n",
    "num_classes = len(np.unique(y_train) + np.unique(y_test))\n",
    "# Scale images to the [0, 1] range\n",
    "x_train = x_train.astype(\"float32\") / 255\n",
    "x_test = x_test.astype(\"float32\") / 255\n",
    "# Make sure images have shape (28, 28, 1)\n",
    "x_train = np.expand_dims(x_train, -1)\n",
    "x_test = np.expand_dims(x_test, -1)\n",
    "print(\"x_train shape:\", x_train.shape)\n",
    "print(x_train.shape[0], \"train samples\")\n",
    "print(x_test.shape[0], \"test samples\")\n",
    "\n",
    "\n",
    "# convert class vectors to binary class matrices, used for cross entropy loss\n",
    "y_train = tf.keras.utils.to_categorical(y_train, num_classes)\n",
    "\n",
    "print(y_train.shape)"
   ]
  },
  {
   "cell_type": "code",
   "execution_count": 3,
   "metadata": {},
   "outputs": [],
   "source": [
    "class bili_regularizer_l2(regularizers.Regularizer):\n",
    "    '''\n",
    "        Standard L2 regularization applied to the weight matrix for the bilinear layer.\n",
    "    '''\n",
    "    def __init__(self, strength):\n",
    "        self.strength = strength\n",
    "\n",
    "    def __call__(self, weights):\n",
    "        w0 = weights[0]\n",
    "        w1 = weights[1]\n",
    "        # d = 3 # w0.shape[2]\n",
    "        #z = tf.norm(w0, ord=2) + tf.norm(w1, ord=2) \n",
    "        T1 = tf.matmul(tf.transpose(w0, perm=[0,2,1]), w0)\n",
    "        T2 = tf.matmul(tf.transpose(w1, perm=[0,2,1]), w1) \n",
    "        z = tf.linalg.trace(tf.matmul(T1, T2))\n",
    "        # print(\"z = \", tf.reduce_sum(z))\n",
    "        return self.strength * tf.reduce_sum(z) "
   ]
  },
  {
   "cell_type": "code",
   "execution_count": 4,
   "metadata": {},
   "outputs": [],
   "source": [
    "class bilinear_layer(Layer):\n",
    "    def __init__(self, num_outputs, channels_X, channels_Y, regularizer, d, rank, seed=1):\n",
    "        super(bilinear_layer, self).__init__()\n",
    "        self.num_outputs = num_outputs\n",
    "        self.channels_X = channels_X # the number of features in the first NN (m in the blog post)\n",
    "        self.channels_Y = channels_Y # the number of features in the second NN (n in the blog post)\n",
    "        self.d = d # the dimensionality of the feature maps\n",
    "        self.rank = rank # the rank of the low-rank matrices\n",
    "        self.kernel_regularizer = regularizer \n",
    "\n",
    "    def build(self, input_shape):\n",
    "        \n",
    "        tf.random.set_seed(1)\n",
    "        self.w = self.add_weight(shape=(2, self.num_outputs, self.channels_X, self.rank),\n",
    "                                    initializer=\"random_normal\",\n",
    "                                    trainable=True,\n",
    "                                    regularizer=self.kernel_regularizer)\n",
    "        b_init = tf.zeros_initializer()\n",
    "        self.b = tf.Variable(\n",
    "            initial_value=b_init(shape=(self.num_outputs,), dtype=\"float32\"), trainable=True\n",
    "        )\n",
    "        \n",
    "    def call(self, inputs):\n",
    "        X, Y = inputs[0], inputs[1]       \n",
    "        X = tf.reshape(X, (-1, 1, self.channels_X, self.d*self.d)) \n",
    "        Y = tf.reshape(Y,  (-1, 1, self.channels_Y, self.d*self.d)) \n",
    "        T1 = tf.matmul(tf.transpose(X, perm=[0,1,3,2]), self.w[0])\n",
    "        T2 = tf.matmul(tf.transpose(self.w[1], perm=[0,2,1]), Y) \n",
    "        \n",
    "        # The matrix trace takes only the diagonal entries. \n",
    "        # The expression below computes sum_{i=1}^d u_i^TW_k v_i from the blog post\n",
    "        z = tf.linalg.trace(tf.matmul(T1, T2))/(self.d*self.d) + self.b\n",
    "        softmax = tf.keras.layers.Softmax()\n",
    "        z = softmax(z)\n",
    "        return z "
   ]
  },
  {
   "cell_type": "code",
   "execution_count": 5,
   "metadata": {},
   "outputs": [
    {
     "name": "stdout",
     "output_type": "stream",
     "text": [
      "Model: \"model\"\n",
      "__________________________________________________________________________________________________\n",
      "Layer (type)                    Output Shape         Param #     Connected to                     \n",
      "==================================================================================================\n",
      "input_1 (InputLayer)            [(None, 28, 28, 1)]  0                                            \n",
      "__________________________________________________________________________________________________\n",
      "conv1 (Conv2D)                  (None, 28, 28, 32)   320         input_1[0][0]                    \n",
      "__________________________________________________________________________________________________\n",
      "max_pooling2d (MaxPooling2D)    (None, 14, 14, 32)   0           conv1[0][0]                      \n",
      "__________________________________________________________________________________________________\n",
      "conv2 (Conv2D)                  (None, 14, 14, 32)   9248        max_pooling2d[0][0]              \n",
      "__________________________________________________________________________________________________\n",
      "max_pooling2d_1 (MaxPooling2D)  (None, 7, 7, 32)     0           conv2[0][0]                      \n",
      "__________________________________________________________________________________________________\n",
      "dropout (Dropout)               (None, 7, 7, 32)     0           max_pooling2d_1[0][0]            \n",
      "__________________________________________________________________________________________________\n",
      "bilinear_layer (bilinear_layer) (None, 10)           5130        dropout[0][0]                    \n",
      "                                                                 dropout[0][0]                    \n",
      "==================================================================================================\n",
      "Total params: 14,698\n",
      "Trainable params: 14,698\n",
      "Non-trainable params: 0\n",
      "__________________________________________________________________________________________________\n"
     ]
    }
   ],
   "source": [
    "inp = Input(shape=(28, 28, 1))\n",
    "x = Conv2D(32, kernel_size=(3, 3), activation=\"relu\", name=\"conv1\", padding=\"same\")(inp)\n",
    "x = MaxPooling2D(pool_size=(2, 2))(x)\n",
    "x = Conv2D(32, kernel_size=(3, 3), activation=\"relu\", name=\"conv2\", padding=\"same\")(x)\n",
    "x = MaxPooling2D(pool_size=(2, 2))(x)\n",
    "x = Dropout(0.5)(x)\n",
    "\n",
    "\n",
    "bili_reg = bili_regularizer_l2(strength=1)\n",
    "bili_layer = bilinear_layer(num_outputs=num_classes,\n",
    "              channels_X=32,\n",
    "              channels_Y=32,\n",
    "              regularizer = bili_reg, \n",
    "              rank = 8,\n",
    "              d = x.shape[1] \n",
    "              )\n",
    "x = bili_layer([x, x])\n",
    "model = tf.keras.Model(inputs=[inp], outputs=[x])\n",
    "model.summary()"
   ]
  },
  {
   "cell_type": "code",
   "execution_count": null,
   "metadata": {},
   "outputs": [],
   "source": []
  },
  {
   "cell_type": "code",
   "execution_count": null,
   "metadata": {},
   "outputs": [],
   "source": []
  },
  {
   "cell_type": "code",
   "execution_count": 6,
   "metadata": {},
   "outputs": [
    {
     "name": "stdout",
     "output_type": "stream",
     "text": [
      "Epoch 1/15\n",
      "422/422 [==============================] - 34s 80ms/step - loss: 1.5108 - accuracy: 0.4818 - val_loss: 0.8500 - val_accuracy: 0.7228\n",
      "Epoch 2/15\n",
      "422/422 [==============================] - 37s 87ms/step - loss: 0.7645 - accuracy: 0.7438 - val_loss: 0.8157 - val_accuracy: 0.7413\n",
      "Epoch 3/15\n",
      "422/422 [==============================] - 46s 108ms/step - loss: 0.6766 - accuracy: 0.7767 - val_loss: 0.7179 - val_accuracy: 0.7587\n",
      "Epoch 4/15\n",
      "422/422 [==============================] - 36s 86ms/step - loss: 0.6280 - accuracy: 0.7896 - val_loss: 0.6679 - val_accuracy: 0.7705\n",
      "Epoch 5/15\n",
      "422/422 [==============================] - 39s 92ms/step - loss: 0.5878 - accuracy: 0.8016 - val_loss: 0.6463 - val_accuracy: 0.7805\n",
      "Epoch 6/15\n",
      "422/422 [==============================] - 35s 83ms/step - loss: 0.5582 - accuracy: 0.8117 - val_loss: 0.6273 - val_accuracy: 0.7633\n",
      "Epoch 7/15\n",
      "422/422 [==============================] - 37s 89ms/step - loss: 0.5429 - accuracy: 0.8149 - val_loss: 0.5751 - val_accuracy: 0.7900\n",
      "Epoch 8/15\n",
      "422/422 [==============================] - 35s 83ms/step - loss: 0.5238 - accuracy: 0.8189 - val_loss: 0.5645 - val_accuracy: 0.7937\n",
      "Epoch 9/15\n",
      "422/422 [==============================] - 35s 84ms/step - loss: 0.5192 - accuracy: 0.8191 - val_loss: 0.5355 - val_accuracy: 0.8252\n",
      "Epoch 10/15\n",
      "422/422 [==============================] - 36s 86ms/step - loss: 0.5083 - accuracy: 0.8240 - val_loss: 0.5667 - val_accuracy: 0.8038\n",
      "Epoch 11/15\n",
      "422/422 [==============================] - 35s 83ms/step - loss: 0.5032 - accuracy: 0.8294 - val_loss: 0.5644 - val_accuracy: 0.8037\n",
      "Epoch 12/15\n",
      "422/422 [==============================] - 33s 78ms/step - loss: 0.4935 - accuracy: 0.8302 - val_loss: 0.5613 - val_accuracy: 0.8017\n",
      "Epoch 13/15\n",
      "422/422 [==============================] - 33s 79ms/step - loss: 0.4857 - accuracy: 0.8345 - val_loss: 0.5253 - val_accuracy: 0.8295\n",
      "Epoch 14/15\n",
      "422/422 [==============================] - 33s 78ms/step - loss: 0.4924 - accuracy: 0.8291 - val_loss: 0.5240 - val_accuracy: 0.8173\n",
      "Epoch 15/15\n",
      "422/422 [==============================] - 33s 78ms/step - loss: 0.4804 - accuracy: 0.8351 - val_loss: 0.5385 - val_accuracy: 0.8198\n"
     ]
    }
   ],
   "source": [
    "batch_size = 128\n",
    "epochs = 15\n",
    "callback = tf.keras.callbacks.EarlyStopping(monitor='loss', patience=30)\n",
    "model.compile(loss=\"categorical_crossentropy\", optimizer=\"adam\", metrics=[\"accuracy\"])#, run_eagerly = False)\n",
    "training_hist = model.fit(x_train, y_train, batch_size=batch_size, epochs=epochs, \n",
    "                          validation_split=0.1, callbacks=[callback])"
   ]
  },
  {
   "cell_type": "code",
   "execution_count": 7,
   "metadata": {},
   "outputs": [
    {
     "data": {
      "image/png": "[encoded data removed]",
      "text/plain": [
       "<Figure size 432x288 with 1 Axes>"
      ]
     },
     "metadata": {
      "needs_background": "light"
     },
     "output_type": "display_data"
    }
   ],
   "source": [
    "plt.plot(training_hist.history['accuracy'], marker='o', markersize=4, linestyle='--')\n",
    "plt.plot(training_hist.history['val_accuracy'], marker='x', markersize=5, linestyle='--')\n",
    "plt.title('Fashion MNIST Accuracy',fontsize=16)\n",
    "plt.ylabel('Accuracy',fontsize=14)\n",
    "plt.xlabel('epoch',fontsize=14)\n",
    "plt.legend(['train', 'validation'], loc='lower right',fontsize=14)\n",
    "plt.show()"
   ]
  },
  {
   "cell_type": "code",
   "execution_count": 8,
   "metadata": {},
   "outputs": [
    {
     "name": "stdout",
     "output_type": "stream",
     "text": [
      "Accuracy on test set 0.8151\n"
     ]
    }
   ],
   "source": [
    "y_pred = model.predict(x_test)\n",
    "print(\"Accuracy on test set\", acc(y_test, np.argmax(y_pred, axis=1)))"
   ]
  },
  {
   "cell_type": "code",
   "execution_count": null,
   "metadata": {},
   "outputs": [],
   "source": []
  },
  {
   "cell_type": "code",
   "execution_count": null,
   "metadata": {},
   "outputs": [],
   "source": []
  }
 ],
 "metadata": {
  "kernelspec": {
   "display_name": "Python 3",
   "language": "python",
   "name": "python3"
  },
  "language_info": {
   "codemirror_mode": {
    "name": "ipython",
    "version": 3
   },
   "file_extension": ".py",
   "mimetype": "text/x-python",
   "name": "python",
   "nbconvert_exporter": "python",
   "pygments_lexer": "ipython3",
   "version": "3.7.5"
  }
 },
 "nbformat": 4,
 "nbformat_minor": 4
}
